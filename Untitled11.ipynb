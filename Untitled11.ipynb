{
 "cells": [
  {
   "cell_type": "code",
   "execution_count": 2,
   "id": "cd9596eb-9592-4dca-93bc-0abe32efe32e",
   "metadata": {},
   "outputs": [
    {
     "name": "stdin",
     "output_type": "stream",
     "text": [
      "Enter a Number 9\n",
      "Enter a number 5\n"
     ]
    },
    {
     "name": "stdout",
     "output_type": "stream",
     "text": [
      "14\n"
     ]
    }
   ],
   "source": [
    "\n",
    "num1=int(input(\"Enter a Number\"))\n",
    "num2=int(input(\"Enter a number\"))\n",
    "sum=num1+num2\n",
    "print(sum)"
   ]
  },
  {
   "cell_type": "code",
   "execution_count": 4,
   "id": "b4e96831-ddbb-4f4d-a8fe-9d722c5724fe",
   "metadata": {},
   "outputs": [
    {
     "name": "stdin",
     "output_type": "stream",
     "text": [
      "Enter your firstname Abdullah\n",
      "Enter your last name Haleem\n"
     ]
    },
    {
     "name": "stdout",
     "output_type": "stream",
     "text": [
      "Your full name is  Abdullah Haleem\n"
     ]
    }
   ],
   "source": [
    "first_name=input(\"Enter your firstname\")\n",
    "last_name=input(\"Enter your last name\")\n",
    "full_name=first_name+ \" \" + last_name\n",
    "print(\"Your full name is \",full_name)"
   ]
  },
  {
   "cell_type": "code",
   "execution_count": 9,
   "id": "96bcf9eb-d2e2-44f3-8cfb-bad588c65474",
   "metadata": {},
   "outputs": [
    {
     "name": "stdout",
     "output_type": "stream",
     "text": [
      "2\n",
      "2.5\n"
     ]
    }
   ],
   "source": [
    "price=2.5\n",
    "print(int(price))\n",
    "print(price)"
   ]
  },
  {
   "cell_type": "code",
   "execution_count": null,
   "id": "0f10ffa5-f3d2-4c8a-986c-88e030220360",
   "metadata": {},
   "outputs": [],
   "source": []
  }
 ],
 "metadata": {
  "kernelspec": {
   "display_name": "Python 3 (ipykernel)",
   "language": "python",
   "name": "python3"
  },
  "language_info": {
   "codemirror_mode": {
    "name": "ipython",
    "version": 3
   },
   "file_extension": ".py",
   "mimetype": "text/x-python",
   "name": "python",
   "nbconvert_exporter": "python",
   "pygments_lexer": "ipython3",
   "version": "3.10.10"
  }
 },
 "nbformat": 4,
 "nbformat_minor": 5
}
